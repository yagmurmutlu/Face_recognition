{
 "cells": [
  {
   "cell_type": "code",
   "execution_count": 9,
   "id": "90e7c551",
   "metadata": {},
   "outputs": [],
   "source": [
    "#ARVIS TECH Internship Programme\n",
    "#September 2022\n",
    "\n",
    "#Face Recognition"
   ]
  },
  {
   "cell_type": "code",
   "execution_count": 1,
   "id": "1732170f",
   "metadata": {},
   "outputs": [],
   "source": [
    "import cv2\n",
    "import matplotlib.pyplot as plt\n",
    "import numpy as np\n",
    "from deepface import DeepFace\n",
    "import time"
   ]
  },
  {
   "cell_type": "code",
   "execution_count": 8,
   "id": "86572bd1",
   "metadata": {},
   "outputs": [],
   "source": [
    "def face_recognition(staible_image):\n",
    "    #compares the person in the frame with the photos in the database. returns the matched person. \n",
    "    #If there is no match, it returns \"match failed\"\n",
    "    try:\n",
    "        recognition = DeepFace.find(img_path = staible_image, db_path = \"images/\")\n",
    "    \n",
    "        recognition = recognition[\"identity\"].values[0]\n",
    "    \n",
    "        return recognition\n",
    "    except:\n",
    "        return \"........match failed....\""
   ]
  },
  {
   "cell_type": "code",
   "execution_count": 6,
   "id": "d85082d3",
   "metadata": {},
   "outputs": [],
   "source": [
    "def start_video(path = 0):\n",
    "\n",
    "    font = cv2.FONT_HERSHEY_SIMPLEX \n",
    "    cap = cv2.VideoCapture(path)\n",
    "    \n",
    "    #finds the fps of the video\n",
    "    (major_ver, minor_ver, subminor_ver) = (cv2.__version__).split('.')\n",
    "    if int(major_ver)  < 3 :\n",
    "        fps = cap.get(cv2.cv.CV_CAP_PROP_FPS)\n",
    "    else :\n",
    "        fps = cap.get(cv2.CAP_PROP_FPS)\n",
    "    \n",
    "    ctr = 0\n",
    "    while True:\n",
    "        \n",
    "        ret, image = cap.read()\n",
    "        if ret is not True:\n",
    "            break\n",
    "\n",
    "        #compares the person in the video with the people in the database every 60 frames\n",
    "        if ctr == 0 or ctr%60 == 0 :\n",
    "            isim = face_recognition(image)    \n",
    "\n",
    "        cv2.putText(image,isim[8:-4], (150, 30), font, 1, (100, 255, 0), 3, cv2.LINE_AA)\n",
    "\n",
    "        # putting the FPS count on the frame\n",
    "        cv2.putText(image, \"FPS: \" + str(int(fps)), (7, 30), font, 1, (100, 255, 0), 3, cv2.LINE_AA)\n",
    "\n",
    "        cv2.imshow(\"roi areas\", image)\n",
    "        \n",
    "        ctr += 1\n",
    "        if cv2.waitKey(1) == ord(\"q\"):\n",
    "            break   \n",
    "\n",
    "    cap.release()\n",
    "    cv2.destroyAllWindows()"
   ]
  },
  {
   "cell_type": "code",
   "execution_count": 7,
   "id": "9c9c849c",
   "metadata": {},
   "outputs": [
    {
     "name": "stdout",
     "output_type": "stream",
     "text": [
      "WARNING: Representations for images in  images/  folder were previously stored in  representations_vgg_face.pkl . If you added new instances after this file creation, then please delete this file and call find function again. It will create it again.\n",
      "There are  5  representations found in  representations_vgg_face.pkl\n",
      "1/1 [==============================] - 0s 201ms/step\n",
      "find function lasts  0.3141458034515381  seconds\n",
      "WARNING: Representations for images in  images/  folder were previously stored in  representations_vgg_face.pkl . If you added new instances after this file creation, then please delete this file and call find function again. It will create it again.\n",
      "There are  5  representations found in  representations_vgg_face.pkl\n",
      "WARNING: Representations for images in  images/  folder were previously stored in  representations_vgg_face.pkl . If you added new instances after this file creation, then please delete this file and call find function again. It will create it again.\n",
      "There are  5  representations found in  representations_vgg_face.pkl\n",
      "WARNING: Representations for images in  images/  folder were previously stored in  representations_vgg_face.pkl . If you added new instances after this file creation, then please delete this file and call find function again. It will create it again.\n",
      "There are  5  representations found in  representations_vgg_face.pkl\n",
      "WARNING: Representations for images in  images/  folder were previously stored in  representations_vgg_face.pkl . If you added new instances after this file creation, then please delete this file and call find function again. It will create it again.\n",
      "There are  5  representations found in  representations_vgg_face.pkl\n",
      "1/1 [==============================] - 0s 200ms/step\n",
      "find function lasts  0.34211111068725586  seconds\n",
      "WARNING: Representations for images in  images/  folder were previously stored in  representations_vgg_face.pkl . If you added new instances after this file creation, then please delete this file and call find function again. It will create it again.\n",
      "There are  5  representations found in  representations_vgg_face.pkl\n",
      "1/1 [==============================] - 0s 246ms/step\n",
      "find function lasts  0.42740368843078613  seconds\n",
      "WARNING: Representations for images in  images/  folder were previously stored in  representations_vgg_face.pkl . If you added new instances after this file creation, then please delete this file and call find function again. It will create it again.\n",
      "There are  5  representations found in  representations_vgg_face.pkl\n",
      "1/1 [==============================] - 0s 205ms/step\n",
      "find function lasts  0.37973761558532715  seconds\n"
     ]
    }
   ],
   "source": [
    "start_video(path = 0)"
   ]
  },
  {
   "cell_type": "code",
   "execution_count": null,
   "id": "af560162",
   "metadata": {},
   "outputs": [],
   "source": []
  },
  {
   "cell_type": "code",
   "execution_count": null,
   "id": "7d221e15",
   "metadata": {},
   "outputs": [],
   "source": []
  }
 ],
 "metadata": {
  "kernelspec": {
   "display_name": "Python 3 (ipykernel)",
   "language": "python",
   "name": "python3"
  },
  "language_info": {
   "codemirror_mode": {
    "name": "ipython",
    "version": 3
   },
   "file_extension": ".py",
   "mimetype": "text/x-python",
   "name": "python",
   "nbconvert_exporter": "python",
   "pygments_lexer": "ipython3",
   "version": "3.9.12"
  }
 },
 "nbformat": 4,
 "nbformat_minor": 5
}
